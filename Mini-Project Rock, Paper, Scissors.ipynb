{
 "cells": [
  {
   "cell_type": "code",
   "execution_count": null,
   "metadata": {},
   "outputs": [],
   "source": [
    "play_again = \"y\"\n",
    "\n",
    "while play_again == \"y\":\n",
    "    \n",
    "    p1 = input (\"Player 1 - Enter Selection: rock, paper, scissor!\")\n",
    "    p2 = input (\"Player 2 - Enter Selection: rock, paper, scissor!\")\n",
    "    print (p1)\n",
    "    print (p2)\n",
    "\n",
    "    if p1 == p2:\n",
    "        print (\"It's a tie\")\n",
    "\n",
    "    elif p1 == \"rock\":\n",
    "        if p2 == \"paper\":\n",
    "            print (\"Player 2 WINS!\")\n",
    "        elif p2 == \"scissors\":\n",
    "            print (\"Player 1 WINS!\")\n",
    "    elif p1 == \"paper\":\n",
    "        if p2 == \"rock\":\n",
    "            print (\"Player 1 WINS!\")\n",
    "        elif p2 == \"scissors\":\n",
    "            print (\"Player 2 WINS!\")\n",
    "\n",
    "    elif p1 == \"scissors\":\n",
    "        if p2 == \"rock\":\n",
    "            print (\"Player 2 WINS!\")\n",
    "        elif p2 == \"paper\":\n",
    "            print (\"Player 1 WINS!\")\n",
    "    \n",
    "    play_again = input (\"Play again [Y]\")    \n"
   ]
  },
  {
   "cell_type": "code",
   "execution_count": 7,
   "metadata": {},
   "outputs": [
    {
     "name": "stdout",
     "output_type": "stream",
     "text": [
      "It's a tie\n"
     ]
    }
   ],
   "source": [
    "\n"
   ]
  },
  {
   "cell_type": "code",
   "execution_count": null,
   "metadata": {},
   "outputs": [],
   "source": []
  }
 ],
 "metadata": {
  "kernelspec": {
   "display_name": "Python 3",
   "language": "python",
   "name": "python3"
  },
  "language_info": {
   "codemirror_mode": {
    "name": "ipython",
    "version": 3
   },
   "file_extension": ".py",
   "mimetype": "text/x-python",
   "name": "python",
   "nbconvert_exporter": "python",
   "pygments_lexer": "ipython3",
   "version": "3.7.6"
  }
 },
 "nbformat": 4,
 "nbformat_minor": 4
}
